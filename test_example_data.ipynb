{
 "cells": [
  {
   "cell_type": "code",
   "execution_count": null,
   "metadata": {},
   "outputs": [],
   "source": [
    "import pandas as pd\n",
    "import numpy as np\n",
    "from scipy.optimize import curve_fit\n",
    "import matplotlib.pyplot as plt\n",
    "\n",
    "# Import functions from file\n",
    "import sys, os\n",
    "dir_path = os.path.dirname(os.path.realpath('functions.py'))\n",
    "sys.path.append(str(dir_path)+'/')\n",
    "from functions import *"
   ]
  },
  {
   "cell_type": "markdown",
   "metadata": {},
   "source": [
    "### Import google sheet with wget"
   ]
  },
  {
   "cell_type": "code",
   "execution_count": null,
   "metadata": {},
   "outputs": [],
   "source": [
    "%%bash\n",
    "wget \"https://docs.google.com/spreadsheets/u/1/d/1hTYwrjFdEp5xUxz_LDA3ZmqB3ux1QMvU9GQsWcnbhCA/export?format=csv&id=1hTYwrjFdEp5xUxz_LDA3ZmqB3ux1QMvU9GQsWcnbhCA&gid=1901126947\" -O example.csv"
   ]
  },
  {
   "cell_type": "code",
   "execution_count": null,
   "metadata": {},
   "outputs": [],
   "source": [
    "!ls"
   ]
  },
  {
   "cell_type": "markdown",
   "metadata": {},
   "source": [
    "Loading csv into pandas dataframe"
   ]
  },
  {
   "cell_type": "code",
   "execution_count": null,
   "metadata": {},
   "outputs": [],
   "source": [
    "example = pd.read_csv('example.csv')\n",
    "example.head()"
   ]
  },
  {
   "cell_type": "markdown",
   "metadata": {},
   "source": [
    "### Convert Time_Spent and Expected_Time to decimal format"
   ]
  },
  {
   "cell_type": "code",
   "execution_count": null,
   "metadata": {},
   "outputs": [],
   "source": [
    "time = example['Time_Spent'][0]\n",
    "print(time)"
   ]
  },
  {
   "cell_type": "code",
   "execution_count": null,
   "metadata": {},
   "outputs": [],
   "source": [
    "decimal = convert_mins_to_decimal(str(time))\n",
    "print(decimal)"
   ]
  },
  {
   "cell_type": "markdown",
   "metadata": {},
   "source": [
    "Why when I do the following lambda function on `example_converted['Time_Spent']` does it also affect `example`???"
   ]
  },
  {
   "cell_type": "code",
   "execution_count": null,
   "metadata": {},
   "outputs": [],
   "source": [
    "example_converted = example.copy()\n",
    "example_converted['Time_Spent'] = example_converted['Time_Spent'].map(lambda time: convert_mins_to_decimal(str(time)))\n",
    "example_converted['Expected_Time_Spent'] = example_converted['Expected_Time_Spent'].map(lambda time: convert_mins_to_decimal(str(time)))"
   ]
  },
  {
   "cell_type": "code",
   "execution_count": null,
   "metadata": {},
   "outputs": [],
   "source": [
    "example.head()"
   ]
  },
  {
   "cell_type": "code",
   "execution_count": null,
   "metadata": {},
   "outputs": [],
   "source": [
    "example_converted.head()"
   ]
  },
  {
   "cell_type": "markdown",
   "metadata": {},
   "source": [
    "### Plot Expected time vs time spent"
   ]
  },
  {
   "cell_type": "code",
   "execution_count": null,
   "metadata": {},
   "outputs": [],
   "source": [
    "import matplotlib\n",
    "import numpy as np\n",
    "import matplotlib.pyplot as plt"
   ]
  },
  {
   "cell_type": "code",
   "execution_count": null,
   "metadata": {},
   "outputs": [],
   "source": [
    "f, ax = plt.subplots(figsize=(6, 6))\n",
    "plt.plot(example_converted['Expected_Time_Spent'], example_converted['Time_Spent'], 'o')\n",
    "# plt.yscale('log')\n",
    "# plt.xscale('log')\n",
    "plt.xlabel('Expected Time')\n",
    "plt.ylabel('Time Spent')\n",
    "\n",
    "y_max = max(example_converted['Time_Spent'])\n",
    "x_max = max(example_converted['Expected_Time_Spent'])\n",
    "if y_max > x_max:\n",
    "    lim = y_max + 1\n",
    "else:\n",
    "    lim = x_max + 1\n",
    "ax.set(xlim=(0, lim), ylim=(0, lim))\n",
    "diag_line, = ax.plot(ax.get_xlim(), ax.get_ylim(), ls=\"--\", c=\".3\")\n",
    "\n",
    "plt.show()"
   ]
  },
  {
   "cell_type": "code",
   "execution_count": null,
   "metadata": {},
   "outputs": [],
   "source": [
    "# example data\n",
    "example_converted['Time_Spent'].plot.hist(alpha=0.5)\n",
    "example_converted['Expected_Time_Spent'].plot.hist(alpha=0.5)\n",
    "plt.show()"
   ]
  },
  {
   "cell_type": "code",
   "execution_count": null,
   "metadata": {},
   "outputs": [],
   "source": [
    "import seaborn as sns"
   ]
  },
  {
   "cell_type": "code",
   "execution_count": null,
   "metadata": {},
   "outputs": [],
   "source": [
    "ax = sns.kdeplot(example_converted['Time_Spent'], cut=0, shade=True)\n",
    "ax = sns.kdeplot(example_converted['Expected_Time_Spent'], cut=0, shade=True)\n",
    "plt.xlabel('Time (hrs)')\n",
    "plt.show()"
   ]
  },
  {
   "cell_type": "code",
   "execution_count": null,
   "metadata": {},
   "outputs": [],
   "source": [
    "sns.jointplot(x=\"Expected_Time_Spent\", y=\"Time_Spent\", data=example_converted, kind=\"kde\")\n",
    "plt.show()"
   ]
  },
  {
   "cell_type": "code",
   "execution_count": null,
   "metadata": {},
   "outputs": [],
   "source": [
    "g = sns.jointplot(x=\"Expected_Time_Spent\", y=\"Time_Spent\", data=example_converted, kind=\"kde\", color=\"m\")\n",
    "g.plot_joint(plt.scatter, c=\"grey\", s=30, linewidth=1, marker=\"+\")\n",
    "g.ax_joint.collections[0].set_alpha(0)\n",
    "g.set_axis_labels(\"Expected_Time_Spent\", \"Time_Spent\");"
   ]
  },
  {
   "cell_type": "code",
   "execution_count": null,
   "metadata": {},
   "outputs": [],
   "source": [
    "ax = sns.kdeplot(example_converted['Expected_Time_Spent'], example_converted['Time_Spent'])"
   ]
  },
  {
   "cell_type": "code",
   "execution_count": null,
   "metadata": {},
   "outputs": [],
   "source": [
    "ax = sns.kdeplot(example_converted['Expected_Time_Spent'], example_converted['Time_Spent'], shade=True)"
   ]
  },
  {
   "cell_type": "code",
   "execution_count": null,
   "metadata": {},
   "outputs": [],
   "source": [
    "f, ax = plt.subplots(figsize=(6, 6))\n",
    "plt.plot(example_converted['Expected_Time_Spent'], example_converted['Time_Spent'], 'o')\n",
    "plt.yscale('log')\n",
    "plt.xscale('log')\n",
    "plt.xlabel('Expected Time')\n",
    "plt.ylabel('Time Spent')\n",
    "# ax = sns.kdeplot(example_converted['Expected_Time_Spent'], example_converted['Time_Spent'])\n",
    "ax = sns.kdeplot(example_converted['Expected_Time_Spent'], example_converted['Time_Spent'], n_levels=30, cmap=\"Purples_d\")\n",
    "\n",
    "y_max = max(example_converted['Time_Spent'])\n",
    "x_max = max(example_converted['Expected_Time_Spent'])\n",
    "if y_max > x_max:\n",
    "    lim = y_max + 1\n",
    "else:\n",
    "    lim = x_max + 1\n",
    "ax.set(xlim=(0.1, lim), ylim=(0.1, lim))\n",
    "diag_line, = ax.plot(ax.get_xlim(), ax.get_ylim(), ls=\"--\", c=\".3\")"
   ]
  },
  {
   "cell_type": "code",
   "execution_count": null,
   "metadata": {},
   "outputs": [],
   "source": [
    "f, ax = plt.subplots(figsize=(6, 6))\n",
    "# plt.plot(example_converted['Expected_Time_Spent'], example_converted['Time_Spent'], 'bo')\n",
    "plt.yscale('log')\n",
    "plt.xscale('log')\n",
    "plt.xlabel('Expected Time')\n",
    "plt.ylabel('Time Spent')\n",
    "ax = sns.kdeplot(example_converted['Expected_Time_Spent'], example_converted['Time_Spent'], shade=True)\n",
    "\n",
    "y_max = max(example_converted['Time_Spent'])\n",
    "x_max = max(example_converted['Expected_Time_Spent'])\n",
    "if y_max > x_max:\n",
    "    lim = y_max + 1\n",
    "else:\n",
    "    lim = x_max + 1\n",
    "ax.set(xlim=(0.1, lim), ylim=(0.1, lim))\n",
    "diag_line, = ax.plot(ax.get_xlim(), ax.get_ylim(), ls=\"--\", c=\".3\")"
   ]
  },
  {
   "cell_type": "code",
   "execution_count": null,
   "metadata": {},
   "outputs": [],
   "source": [
    "#fitting with scipy\n",
    "fake_data_x = np.linspace(0, 10, 100)\n",
    "fake_data_y = np.exp(-np.linspace(0, 10, 100)) + 0.1*np.sin(10*np.linspace(0, 10, 100))\n",
    "\n",
    "def fit_func(t, r):\n",
    "    return r * np.exp(-r * t) #this is an exponential distribution, but it could be anything\n",
    "\n",
    "fit_est, fit_cov = curve_fit(fit_func, fake_data_x, fake_data_y)\n",
    "print(fit_est)\n",
    "print(fit_cov)\n",
    "\n",
    "plt.figure()\n",
    "plt.plot(fake_data_x, fake_data_y)\n",
    "plt.plot(fake_data_x, fit_func(fake_data_x, fit_est[0]))\n",
    "plt.show()\n"
   ]
  },
  {
   "cell_type": "code",
   "execution_count": null,
   "metadata": {},
   "outputs": [],
   "source": []
  },
  {
   "cell_type": "code",
   "execution_count": null,
   "metadata": {},
   "outputs": [],
   "source": []
  }
 ],
 "metadata": {
  "kernelspec": {
   "display_name": "Python 3",
   "language": "python",
   "name": "python3"
  },
  "language_info": {
   "codemirror_mode": {
    "name": "ipython",
    "version": 3
   },
   "file_extension": ".py",
   "mimetype": "text/x-python",
   "name": "python",
   "nbconvert_exporter": "python",
   "pygments_lexer": "ipython3",
   "version": "3.6.6"
  }
 },
 "nbformat": 4,
 "nbformat_minor": 2
}
