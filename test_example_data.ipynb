{
 "cells": [
  {
   "cell_type": "code",
   "execution_count": 1,
   "metadata": {},
   "outputs": [],
   "source": [
    "import pandas as pd\n",
    "\n",
    "# Import functions from file\n",
    "import sys, os\n",
    "dir_path = os.path.dirname(os.path.realpath('functions.py'))\n",
    "sys.path.append(str(dir_path)+'/')\n",
    "from functions import *"
   ]
  },
  {
   "cell_type": "markdown",
   "metadata": {},
   "source": [
    "### Import google sheet with wget"
   ]
  },
  {
   "cell_type": "code",
   "execution_count": 2,
   "metadata": {},
   "outputs": [
    {
     "name": "stderr",
     "output_type": "stream",
     "text": [
      "--2018-08-13 13:06:05--  https://docs.google.com/spreadsheets/u/1/d/1hTYwrjFdEp5xUxz_LDA3ZmqB3ux1QMvU9GQsWcnbhCA/export?format=csv&id=1hTYwrjFdEp5xUxz_LDA3ZmqB3ux1QMvU9GQsWcnbhCA&gid=1901126947\n",
      "Resolving docs.google.com (docs.google.com)... 172.217.4.174, 2607:f8b0:4007:801::200e\n",
      "Connecting to docs.google.com (docs.google.com)|172.217.4.174|:443... connected.\n",
      "HTTP request sent, awaiting response... 200 OK\n",
      "Length: unspecified [text/csv]\n",
      "Saving to: ‘example.csv’\n",
      "\n",
      "     0K ...                                                    4.18M=0.001s\n",
      "\n",
      "2018-08-13 13:06:05 (4.18 MB/s) - ‘example.csv’ saved [3343]\n",
      "\n"
     ]
    }
   ],
   "source": [
    "%%bash\n",
    "wget \"https://docs.google.com/spreadsheets/u/1/d/1hTYwrjFdEp5xUxz_LDA3ZmqB3ux1QMvU9GQsWcnbhCA/export?format=csv&id=1hTYwrjFdEp5xUxz_LDA3ZmqB3ux1QMvU9GQsWcnbhCA&gid=1901126947\" -O example.csv"
   ]
  },
  {
   "cell_type": "code",
   "execution_count": 3,
   "metadata": {},
   "outputs": [
    {
     "name": "stdout",
     "output_type": "stream",
     "text": [
      "example.csv   Moal.ipynb   requirements.txt\t     test.ipynb\r\n",
      "functions.py  __pycache__  test_example_data.ipynb\r\n",
      "julian.csv    README.md    test_google_sheets.ipynb\r\n"
     ]
    }
   ],
   "source": [
    "!ls"
   ]
  },
  {
   "cell_type": "markdown",
   "metadata": {},
   "source": [
    "Loading csv into pandas dataframe"
   ]
  },
  {
   "cell_type": "code",
   "execution_count": 10,
   "metadata": {},
   "outputs": [
    {
     "data": {
      "text/html": [
       "<div>\n",
       "<style scoped>\n",
       "    .dataframe tbody tr th:only-of-type {\n",
       "        vertical-align: middle;\n",
       "    }\n",
       "\n",
       "    .dataframe tbody tr th {\n",
       "        vertical-align: top;\n",
       "    }\n",
       "\n",
       "    .dataframe thead th {\n",
       "        text-align: right;\n",
       "    }\n",
       "</style>\n",
       "<table border=\"1\" class=\"dataframe\">\n",
       "  <thead>\n",
       "    <tr style=\"text-align: right;\">\n",
       "      <th></th>\n",
       "      <th>Task</th>\n",
       "      <th>Category</th>\n",
       "      <th>Date_Start</th>\n",
       "      <th>Time_Start</th>\n",
       "      <th>Date_End</th>\n",
       "      <th>Time_End</th>\n",
       "      <th>Time_Spent</th>\n",
       "      <th>Expected_Time_Spent</th>\n",
       "      <th>Update_Iterations</th>\n",
       "    </tr>\n",
       "  </thead>\n",
       "  <tbody>\n",
       "    <tr>\n",
       "      <th>0</th>\n",
       "      <td>Edit_abstract</td>\n",
       "      <td>writing</td>\n",
       "      <td>2018-8-13</td>\n",
       "      <td>8:45</td>\n",
       "      <td>2018-8-13</td>\n",
       "      <td>9:07</td>\n",
       "      <td>0:22</td>\n",
       "      <td>0:10</td>\n",
       "      <td>0</td>\n",
       "    </tr>\n",
       "    <tr>\n",
       "      <th>1</th>\n",
       "      <td>Register_for_conference</td>\n",
       "      <td>other</td>\n",
       "      <td>2018-8-13</td>\n",
       "      <td>11:33</td>\n",
       "      <td>2018-8-13</td>\n",
       "      <td>11:59</td>\n",
       "      <td>0:26</td>\n",
       "      <td>0:30</td>\n",
       "      <td>0</td>\n",
       "    </tr>\n",
       "    <tr>\n",
       "      <th>2</th>\n",
       "      <td>Restore_Visibility</td>\n",
       "      <td>Experiment</td>\n",
       "      <td>2018-8-12</td>\n",
       "      <td>20:00</td>\n",
       "      <td>2018-8-12</td>\n",
       "      <td>22:10</td>\n",
       "      <td>2:10</td>\n",
       "      <td>2:00</td>\n",
       "      <td>0</td>\n",
       "    </tr>\n",
       "    <tr>\n",
       "      <th>3</th>\n",
       "      <td>Drug_Claims</td>\n",
       "      <td>Chores</td>\n",
       "      <td>2018-8-13</td>\n",
       "      <td>10:16</td>\n",
       "      <td>2018-8-13</td>\n",
       "      <td>12:40</td>\n",
       "      <td>2:24</td>\n",
       "      <td>2:00</td>\n",
       "      <td>0</td>\n",
       "    </tr>\n",
       "    <tr>\n",
       "      <th>4</th>\n",
       "      <td>Credit_Card</td>\n",
       "      <td>Chores</td>\n",
       "      <td>2018-8-13</td>\n",
       "      <td>11:41</td>\n",
       "      <td>2018-8-13</td>\n",
       "      <td>11:57</td>\n",
       "      <td>0:16</td>\n",
       "      <td>0:20</td>\n",
       "      <td>0</td>\n",
       "    </tr>\n",
       "  </tbody>\n",
       "</table>\n",
       "</div>"
      ],
      "text/plain": [
       "                      Task    Category Date_Start Time_Start   Date_End  \\\n",
       "0            Edit_abstract     writing  2018-8-13       8:45  2018-8-13   \n",
       "1  Register_for_conference       other  2018-8-13      11:33  2018-8-13   \n",
       "2       Restore_Visibility  Experiment  2018-8-12      20:00  2018-8-12   \n",
       "3              Drug_Claims      Chores  2018-8-13      10:16  2018-8-13   \n",
       "4              Credit_Card      Chores  2018-8-13      11:41  2018-8-13   \n",
       "\n",
       "  Time_End Time_Spent Expected_Time_Spent  Update_Iterations  \n",
       "0     9:07       0:22                0:10                  0  \n",
       "1    11:59       0:26                0:30                  0  \n",
       "2    22:10       2:10                2:00                  0  \n",
       "3    12:40       2:24                2:00                  0  \n",
       "4    11:57       0:16                0:20                  0  "
      ]
     },
     "execution_count": 10,
     "metadata": {},
     "output_type": "execute_result"
    }
   ],
   "source": [
    "example = pd.read_csv('example.csv')\n",
    "example.head()"
   ]
  },
  {
   "cell_type": "markdown",
   "metadata": {},
   "source": [
    "### Convert Time_Spent and Expected_Time to decimal format"
   ]
  },
  {
   "cell_type": "code",
   "execution_count": 5,
   "metadata": {},
   "outputs": [
    {
     "name": "stdout",
     "output_type": "stream",
     "text": [
      "0:22\n"
     ]
    }
   ],
   "source": [
    "time = example['Time_Spent'][0]\n",
    "print(time)"
   ]
  },
  {
   "cell_type": "code",
   "execution_count": 6,
   "metadata": {},
   "outputs": [
    {
     "name": "stdout",
     "output_type": "stream",
     "text": [
      "0.36\n"
     ]
    }
   ],
   "source": [
    "decimal = convert_mins_to_decimal(str(time))\n",
    "print(decimal)"
   ]
  },
  {
   "cell_type": "markdown",
   "metadata": {},
   "source": [
    "Why when I do the following lambda function on `example_converted['Time_Spent']` does it also affect `example`???"
   ]
  },
  {
   "cell_type": "code",
   "execution_count": 7,
   "metadata": {},
   "outputs": [],
   "source": [
    "example_converted = example\n",
    "example_converted['Time_Spent_x'] = example_converted['Time_Spent'].apply(lambda time: convert_mins_to_decimal(str(time)))"
   ]
  },
  {
   "cell_type": "code",
   "execution_count": 8,
   "metadata": {},
   "outputs": [
    {
     "data": {
      "text/html": [
       "<div>\n",
       "<style scoped>\n",
       "    .dataframe tbody tr th:only-of-type {\n",
       "        vertical-align: middle;\n",
       "    }\n",
       "\n",
       "    .dataframe tbody tr th {\n",
       "        vertical-align: top;\n",
       "    }\n",
       "\n",
       "    .dataframe thead th {\n",
       "        text-align: right;\n",
       "    }\n",
       "</style>\n",
       "<table border=\"1\" class=\"dataframe\">\n",
       "  <thead>\n",
       "    <tr style=\"text-align: right;\">\n",
       "      <th></th>\n",
       "      <th>Task</th>\n",
       "      <th>Category</th>\n",
       "      <th>Date_Start</th>\n",
       "      <th>Time_Start</th>\n",
       "      <th>Date_End</th>\n",
       "      <th>Time_End</th>\n",
       "      <th>Time_Spent</th>\n",
       "      <th>Expected_Time_Spent</th>\n",
       "      <th>Update_Iterations</th>\n",
       "      <th>Time_Spent_x</th>\n",
       "    </tr>\n",
       "  </thead>\n",
       "  <tbody>\n",
       "    <tr>\n",
       "      <th>0</th>\n",
       "      <td>Edit_abstract</td>\n",
       "      <td>writing</td>\n",
       "      <td>2018-8-13</td>\n",
       "      <td>8:45</td>\n",
       "      <td>2018-8-13</td>\n",
       "      <td>9:07</td>\n",
       "      <td>0:22</td>\n",
       "      <td>0:10</td>\n",
       "      <td>0</td>\n",
       "      <td>0.36</td>\n",
       "    </tr>\n",
       "    <tr>\n",
       "      <th>1</th>\n",
       "      <td>Register_for_conference</td>\n",
       "      <td>other</td>\n",
       "      <td>2018-8-13</td>\n",
       "      <td>11:33</td>\n",
       "      <td>2018-8-13</td>\n",
       "      <td>11:59</td>\n",
       "      <td>0:26</td>\n",
       "      <td>0:30</td>\n",
       "      <td>0</td>\n",
       "      <td>0.43</td>\n",
       "    </tr>\n",
       "    <tr>\n",
       "      <th>2</th>\n",
       "      <td>Restore_Visibility</td>\n",
       "      <td>Experiment</td>\n",
       "      <td>2018-8-12</td>\n",
       "      <td>20:00</td>\n",
       "      <td>2018-8-12</td>\n",
       "      <td>22:10</td>\n",
       "      <td>2:10</td>\n",
       "      <td>2:00</td>\n",
       "      <td>0</td>\n",
       "      <td>2.16</td>\n",
       "    </tr>\n",
       "    <tr>\n",
       "      <th>3</th>\n",
       "      <td>Drug_Claims</td>\n",
       "      <td>Chores</td>\n",
       "      <td>2018-8-13</td>\n",
       "      <td>10:16</td>\n",
       "      <td>2018-8-13</td>\n",
       "      <td>12:40</td>\n",
       "      <td>2:24</td>\n",
       "      <td>2:00</td>\n",
       "      <td>0</td>\n",
       "      <td>2.40</td>\n",
       "    </tr>\n",
       "    <tr>\n",
       "      <th>4</th>\n",
       "      <td>Credit_Card</td>\n",
       "      <td>Chores</td>\n",
       "      <td>2018-8-13</td>\n",
       "      <td>11:41</td>\n",
       "      <td>2018-8-13</td>\n",
       "      <td>11:57</td>\n",
       "      <td>0:16</td>\n",
       "      <td>0:20</td>\n",
       "      <td>0</td>\n",
       "      <td>0.26</td>\n",
       "    </tr>\n",
       "  </tbody>\n",
       "</table>\n",
       "</div>"
      ],
      "text/plain": [
       "                      Task    Category Date_Start Time_Start   Date_End  \\\n",
       "0            Edit_abstract     writing  2018-8-13       8:45  2018-8-13   \n",
       "1  Register_for_conference       other  2018-8-13      11:33  2018-8-13   \n",
       "2       Restore_Visibility  Experiment  2018-8-12      20:00  2018-8-12   \n",
       "3              Drug_Claims      Chores  2018-8-13      10:16  2018-8-13   \n",
       "4              Credit_Card      Chores  2018-8-13      11:41  2018-8-13   \n",
       "\n",
       "  Time_End Time_Spent Expected_Time_Spent  Update_Iterations  Time_Spent_x  \n",
       "0     9:07       0:22                0:10                  0          0.36  \n",
       "1    11:59       0:26                0:30                  0          0.43  \n",
       "2    22:10       2:10                2:00                  0          2.16  \n",
       "3    12:40       2:24                2:00                  0          2.40  \n",
       "4    11:57       0:16                0:20                  0          0.26  "
      ]
     },
     "execution_count": 8,
     "metadata": {},
     "output_type": "execute_result"
    }
   ],
   "source": [
    "example_converted.head()"
   ]
  },
  {
   "cell_type": "code",
   "execution_count": 9,
   "metadata": {},
   "outputs": [
    {
     "data": {
      "text/html": [
       "<div>\n",
       "<style scoped>\n",
       "    .dataframe tbody tr th:only-of-type {\n",
       "        vertical-align: middle;\n",
       "    }\n",
       "\n",
       "    .dataframe tbody tr th {\n",
       "        vertical-align: top;\n",
       "    }\n",
       "\n",
       "    .dataframe thead th {\n",
       "        text-align: right;\n",
       "    }\n",
       "</style>\n",
       "<table border=\"1\" class=\"dataframe\">\n",
       "  <thead>\n",
       "    <tr style=\"text-align: right;\">\n",
       "      <th></th>\n",
       "      <th>Task</th>\n",
       "      <th>Category</th>\n",
       "      <th>Date_Start</th>\n",
       "      <th>Time_Start</th>\n",
       "      <th>Date_End</th>\n",
       "      <th>Time_End</th>\n",
       "      <th>Time_Spent</th>\n",
       "      <th>Expected_Time_Spent</th>\n",
       "      <th>Update_Iterations</th>\n",
       "      <th>Time_Spent_x</th>\n",
       "    </tr>\n",
       "  </thead>\n",
       "  <tbody>\n",
       "    <tr>\n",
       "      <th>0</th>\n",
       "      <td>Edit_abstract</td>\n",
       "      <td>writing</td>\n",
       "      <td>2018-8-13</td>\n",
       "      <td>8:45</td>\n",
       "      <td>2018-8-13</td>\n",
       "      <td>9:07</td>\n",
       "      <td>0:22</td>\n",
       "      <td>0:10</td>\n",
       "      <td>0</td>\n",
       "      <td>0.36</td>\n",
       "    </tr>\n",
       "    <tr>\n",
       "      <th>1</th>\n",
       "      <td>Register_for_conference</td>\n",
       "      <td>other</td>\n",
       "      <td>2018-8-13</td>\n",
       "      <td>11:33</td>\n",
       "      <td>2018-8-13</td>\n",
       "      <td>11:59</td>\n",
       "      <td>0:26</td>\n",
       "      <td>0:30</td>\n",
       "      <td>0</td>\n",
       "      <td>0.43</td>\n",
       "    </tr>\n",
       "    <tr>\n",
       "      <th>2</th>\n",
       "      <td>Restore_Visibility</td>\n",
       "      <td>Experiment</td>\n",
       "      <td>2018-8-12</td>\n",
       "      <td>20:00</td>\n",
       "      <td>2018-8-12</td>\n",
       "      <td>22:10</td>\n",
       "      <td>2:10</td>\n",
       "      <td>2:00</td>\n",
       "      <td>0</td>\n",
       "      <td>2.16</td>\n",
       "    </tr>\n",
       "    <tr>\n",
       "      <th>3</th>\n",
       "      <td>Drug_Claims</td>\n",
       "      <td>Chores</td>\n",
       "      <td>2018-8-13</td>\n",
       "      <td>10:16</td>\n",
       "      <td>2018-8-13</td>\n",
       "      <td>12:40</td>\n",
       "      <td>2:24</td>\n",
       "      <td>2:00</td>\n",
       "      <td>0</td>\n",
       "      <td>2.40</td>\n",
       "    </tr>\n",
       "    <tr>\n",
       "      <th>4</th>\n",
       "      <td>Credit_Card</td>\n",
       "      <td>Chores</td>\n",
       "      <td>2018-8-13</td>\n",
       "      <td>11:41</td>\n",
       "      <td>2018-8-13</td>\n",
       "      <td>11:57</td>\n",
       "      <td>0:16</td>\n",
       "      <td>0:20</td>\n",
       "      <td>0</td>\n",
       "      <td>0.26</td>\n",
       "    </tr>\n",
       "  </tbody>\n",
       "</table>\n",
       "</div>"
      ],
      "text/plain": [
       "                      Task    Category Date_Start Time_Start   Date_End  \\\n",
       "0            Edit_abstract     writing  2018-8-13       8:45  2018-8-13   \n",
       "1  Register_for_conference       other  2018-8-13      11:33  2018-8-13   \n",
       "2       Restore_Visibility  Experiment  2018-8-12      20:00  2018-8-12   \n",
       "3              Drug_Claims      Chores  2018-8-13      10:16  2018-8-13   \n",
       "4              Credit_Card      Chores  2018-8-13      11:41  2018-8-13   \n",
       "\n",
       "  Time_End Time_Spent Expected_Time_Spent  Update_Iterations  Time_Spent_x  \n",
       "0     9:07       0:22                0:10                  0          0.36  \n",
       "1    11:59       0:26                0:30                  0          0.43  \n",
       "2    22:10       2:10                2:00                  0          2.16  \n",
       "3    12:40       2:24                2:00                  0          2.40  \n",
       "4    11:57       0:16                0:20                  0          0.26  "
      ]
     },
     "execution_count": 9,
     "metadata": {},
     "output_type": "execute_result"
    }
   ],
   "source": [
    "example.head()"
   ]
  },
  {
   "cell_type": "code",
   "execution_count": null,
   "metadata": {},
   "outputs": [],
   "source": []
  }
 ],
 "metadata": {
  "kernelspec": {
   "display_name": "Python 3",
   "language": "python",
   "name": "python3"
  },
  "language_info": {
   "codemirror_mode": {
    "name": "ipython",
    "version": 3
   },
   "file_extension": ".py",
   "mimetype": "text/x-python",
   "name": "python",
   "nbconvert_exporter": "python",
   "pygments_lexer": "ipython3",
   "version": "3.6.4"
  }
 },
 "nbformat": 4,
 "nbformat_minor": 2
}
