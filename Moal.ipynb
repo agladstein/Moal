{
 "cells": [
  {
   "cell_type": "markdown",
   "metadata": {},
   "source": [
    "# MOdeling goALs: A bayesian approach to timely goal completion\n",
    "### Noah Lupu-Gladstein, Julian Pistorius, Ariella Gladstein "
   ]
  },
  {
   "cell_type": "markdown",
   "metadata": {},
   "source": [
    "## Problem:\n",
    "It is difficult to accurately predict how long a task will take.\n",
    "\n",
    "## Goal:\n",
    "Improve prediction of how long tasks will take.\n",
    "\n",
    "## Method:\n"
   ]
  },
  {
   "attachments": {},
   "cell_type": "markdown",
   "metadata": {},
   "source": [
    "According to Bayes rule, the posterior probability of the predicted times ($\\theta$) given the data ($t$) is:\n",
    "\n",
    "\\begin{equation}\n",
    "P(\\theta | t) = \\dfrac{P(t | \\theta)P(\\theta)}{P(t)},\n",
    "\\end{equation}\n",
    "where \n",
    "\n",
    "- $P(\\theta | t)$ is the posterior probability,\n",
    "- $P(t | \\theta)$ is the likelihood function,\n",
    "- $P_\\pi(\\theta)$ is the prior probability of the predicted times, and\n",
    "- $P(t)$ is the marginal likelihood.\n",
    "\n",
    "We will first try to use an exponential distribution as the likelihood function because completing a task is a rare event.\n",
    "\n",
    "\\begin{equation}\n",
    "P(t | \\theta) = \\lambda(\\theta) e^{-\\lambda(\\theta) t}\n",
    "\\end{equation}"
   ]
  },
  {
   "cell_type": "code",
   "execution_count": null,
   "metadata": {},
   "outputs": [],
   "source": []
  }
 ],
 "metadata": {
  "kernelspec": {
   "display_name": "Python 3",
   "language": "python",
   "name": "python3"
  },
  "language_info": {
   "codemirror_mode": {
    "name": "ipython",
    "version": 3
   },
   "file_extension": ".py",
   "mimetype": "text/x-python",
   "name": "python",
   "nbconvert_exporter": "python",
   "pygments_lexer": "ipython3",
   "version": "3.6.4"
  }
 },
 "nbformat": 4,
 "nbformat_minor": 2
}
